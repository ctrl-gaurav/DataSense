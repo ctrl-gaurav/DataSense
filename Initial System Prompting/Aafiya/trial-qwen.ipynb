{
 "cells": [
  {
   "cell_type": "code",
   "execution_count": 1,
   "metadata": {},
   "outputs": [
    {
     "name": "stderr",
     "output_type": "stream",
     "text": [
      "/home/grads/aafiyahussain/miniconda3/envs/nlp/lib/python3.10/site-packages/tqdm/auto.py:21: TqdmWarning: IProgress not found. Please update jupyter and ipywidgets. See https://ipywidgets.readthedocs.io/en/stable/user_install.html\n",
      "  from .autonotebook import tqdm as notebook_tqdm\n",
      "2025-04-19 21:26:54,320\tINFO util.py:154 -- Missing packages: ['ipywidgets']. Run `pip install -U ipywidgets`, then restart the notebook server for rich notebook output.\n"
     ]
    }
   ],
   "source": [
    "from sklearn.datasets import *\n",
    "import pandas as pd\n",
    "from vllm import LLM, SamplingParams\n",
    "from transformers import AutoTokenizer"
   ]
  },
  {
   "cell_type": "code",
   "execution_count": 2,
   "metadata": {},
   "outputs": [],
   "source": [
    "sampling_params = SamplingParams(max_tokens=512,temperature=1.2)"
   ]
  },
  {
   "cell_type": "code",
   "execution_count": 3,
   "metadata": {},
   "outputs": [
    {
     "name": "stdout",
     "output_type": "stream",
     "text": [
      "INFO 04-19 21:26:55 __init__.py:207] Automatically detected platform cuda.\n",
      "INFO 04-19 21:27:04 config.py:549] This model supports multiple tasks: {'embed', 'classify', 'reward', 'generate', 'score'}. Defaulting to 'generate'.\n",
      "INFO 04-19 21:27:04 llm_engine.py:234] Initializing a V0 LLM engine (v0.7.3) with config: model='Qwen/Qwen2.5-14B-Instruct', speculative_config=None, tokenizer='Qwen/Qwen2.5-14B-Instruct', skip_tokenizer_init=False, tokenizer_mode=auto, revision=None, override_neuron_config=None, tokenizer_revision=None, trust_remote_code=False, dtype=torch.bfloat16, max_seq_len=8192, download_dir=None, load_format=auto, tensor_parallel_size=1, pipeline_parallel_size=1, disable_custom_all_reduce=False, quantization=None, enforce_eager=False, kv_cache_dtype=auto,  device_config=cuda, decoding_config=DecodingConfig(guided_decoding_backend='xgrammar'), observability_config=ObservabilityConfig(otlp_traces_endpoint=None, collect_model_forward_time=False, collect_model_execute_time=False), seed=0, served_model_name=Qwen/Qwen2.5-14B-Instruct, num_scheduler_steps=1, multi_step_stream_outputs=True, enable_prefix_caching=False, chunked_prefill_enabled=False, use_async_output_proc=True, disable_mm_preprocessor_cache=False, mm_processor_kwargs=None, pooler_config=None, compilation_config={\"splitting_ops\":[],\"compile_sizes\":[],\"cudagraph_capture_sizes\":[256,248,240,232,224,216,208,200,192,184,176,168,160,152,144,136,128,120,112,104,96,88,80,72,64,56,48,40,32,24,16,8,4,2,1],\"max_capture_size\":256}, use_cached_outputs=False, \n",
      "INFO 04-19 21:27:06 cuda.py:229] Using Flash Attention backend.\n",
      "INFO 04-19 21:27:07 model_runner.py:1110] Starting to load model Qwen/Qwen2.5-14B-Instruct...\n",
      "INFO 04-19 21:27:07 weight_utils.py:254] Using model weights format ['*.safetensors']\n"
     ]
    },
    {
     "name": "stderr",
     "output_type": "stream",
     "text": [
      "Loading safetensors checkpoint shards:   0% Completed | 0/8 [00:00<?, ?it/s]\n",
      "Loading safetensors checkpoint shards:  12% Completed | 1/8 [00:00<00:01,  6.85it/s]\n",
      "Loading safetensors checkpoint shards:  25% Completed | 2/8 [00:00<00:01,  3.62it/s]\n",
      "Loading safetensors checkpoint shards:  38% Completed | 3/8 [00:00<00:01,  2.88it/s]\n",
      "Loading safetensors checkpoint shards:  50% Completed | 4/8 [00:01<00:01,  2.61it/s]\n",
      "Loading safetensors checkpoint shards:  62% Completed | 5/8 [00:01<00:01,  2.48it/s]\n",
      "Loading safetensors checkpoint shards:  75% Completed | 6/8 [00:02<00:00,  2.42it/s]\n",
      "Loading safetensors checkpoint shards:  88% Completed | 7/8 [00:02<00:00,  2.38it/s]\n",
      "Loading safetensors checkpoint shards: 100% Completed | 8/8 [00:03<00:00,  2.36it/s]\n",
      "Loading safetensors checkpoint shards: 100% Completed | 8/8 [00:03<00:00,  2.57it/s]\n",
      "\n"
     ]
    },
    {
     "name": "stdout",
     "output_type": "stream",
     "text": [
      "INFO 04-19 21:27:10 model_runner.py:1115] Loading model weights took 27.5681 GB\n",
      "INFO 04-19 21:27:13 worker.py:267] Memory profiling takes 2.32 seconds\n",
      "INFO 04-19 21:27:13 worker.py:267] the current vLLM instance can use total_gpu_memory (44.43GiB) x gpu_memory_utilization (0.90) = 39.99GiB\n",
      "INFO 04-19 21:27:13 worker.py:267] model weights take 27.57GiB; non_torch_memory takes 0.06GiB; PyTorch activation peak memory takes 1.47GiB; the rest of the memory reserved for KV Cache is 10.90GiB.\n",
      "INFO 04-19 21:27:13 executor_base.py:111] # cuda blocks: 3719, # CPU blocks: 1365\n",
      "INFO 04-19 21:27:13 executor_base.py:116] Maximum concurrency for 8192 tokens per request: 7.26x\n",
      "INFO 04-19 21:27:16 model_runner.py:1434] Capturing cudagraphs for decoding. This may lead to unexpected consequences if the model is not static. To run the model in eager mode, set 'enforce_eager=True' or use '--enforce-eager' in the CLI. If out-of-memory error occurs during cudagraph capture, consider decreasing `gpu_memory_utilization` or switching to eager mode. You can also reduce the `max_num_seqs` as needed to decrease memory usage.\n"
     ]
    },
    {
     "name": "stderr",
     "output_type": "stream",
     "text": [
      "Capturing CUDA graph shapes: 100%|██████████| 35/35 [00:17<00:00,  2.03it/s]"
     ]
    },
    {
     "name": "stdout",
     "output_type": "stream",
     "text": [
      "INFO 04-19 21:27:33 model_runner.py:1562] Graph capturing finished in 17 secs, took 0.28 GiB\n",
      "INFO 04-19 21:27:33 llm_engine.py:436] init engine (profile, create kv cache, warmup model) took 22.80 seconds\n"
     ]
    },
    {
     "name": "stderr",
     "output_type": "stream",
     "text": [
      "\n"
     ]
    }
   ],
   "source": [
    "model_id = \"Qwen/Qwen2.5-14B-Instruct\"\n",
    "tokenizer = AutoTokenizer.from_pretrained(model_id)\n",
    "llm = LLM(\n",
    "    model=model_id,\n",
    "    tensor_parallel_size=1,\n",
    "    max_model_len=8192\n",
    ")"
   ]
  },
  {
   "cell_type": "code",
   "execution_count": 4,
   "metadata": {},
   "outputs": [],
   "source": [
    "def get_prompt(summary_statistics,sampled_rows):\n",
    "    prompt = f\"\"\"You are a data visualization expert whose goal is to suggest most insighful visualization from a list of options.  \n",
    "    You will be provided with two inputs:\n",
    "\n",
    "    1. **Summary statistics** (the comma seperated output of `df.describe()`)  \n",
    "    2. **Ten sample rows** from the dataset, each row on its own line, with comma‑separated values.\n",
    "\n",
    "    Your task is to:\n",
    "\n",
    "    1. Choose **one** visualization from this list of common exploratory plots:\n",
    "    - Histogram  \n",
    "    - Box plot  \n",
    "    - Scatter plot  \n",
    "    - Bar chart  \n",
    "    - Line chart  \n",
    "    - Heatmap (e.g. correlation matrix)  \n",
    "    - Pair plot (scatterplot matrix)  \n",
    "    - Violin plot  \n",
    "    - Density plot  \n",
    "    - Stacked bar chart  \n",
    "\n",
    "    2. Explain your **rationale** for selecting that visualization given the summary statistics and sample rows.\n",
    "\n",
    "    Inputs:\n",
    "    1. Summary statistics:\n",
    "    {summary_statistics}\n",
    "\n",
    "    2. Ten randomly selected rows from the dataset:\n",
    "    {sampled_rows}\n",
    "\n",
    "    Provide your answer in the format \\\\boxed{{answer}} at the end.\"\"\"\n",
    "    return prompt"
   ]
  },
  {
   "cell_type": "code",
   "execution_count": 5,
   "metadata": {},
   "outputs": [],
   "source": [
    "def get_summary_stat_and_rows(df):\n",
    "    summary_statistics = df.describe().to_csv(index=True)\n",
    "    sampled_rows = df.sample(n=10, random_state=42).to_csv(index=False)\n",
    "    return summary_statistics,sampled_rows"
   ]
  },
  {
   "cell_type": "markdown",
   "metadata": {},
   "source": [
    "## Iris"
   ]
  },
  {
   "cell_type": "code",
   "execution_count": 6,
   "metadata": {},
   "outputs": [],
   "source": [
    "iris = load_iris()\n",
    "df_iris = pd.DataFrame(iris.data, columns=iris.feature_names)\n",
    "df_iris['target'] = [iris.target_names[t] for t in iris.target]\n",
    "# csv_data = df_iris.to_csv(index=False)"
   ]
  },
  {
   "cell_type": "code",
   "execution_count": 7,
   "metadata": {},
   "outputs": [],
   "source": [
    "summary_statistics, sampled_rows = get_summary_stat_and_rows(df_iris)"
   ]
  },
  {
   "cell_type": "code",
   "execution_count": 8,
   "metadata": {},
   "outputs": [],
   "source": [
    "prompt = get_prompt(summary_statistics,sampled_rows)"
   ]
  },
  {
   "cell_type": "code",
   "execution_count": 9,
   "metadata": {},
   "outputs": [],
   "source": [
    "messages = [\n",
    "                {\n",
    "                    \"role\": \"user\",\n",
    "                    \"content\": prompt\n",
    "                }\n",
    "            ]\n",
    "prompts = tokenizer.apply_chat_template(messages, add_generation_prompt=True, tokenize=False)"
   ]
  },
  {
   "cell_type": "code",
   "execution_count": 10,
   "metadata": {},
   "outputs": [
    {
     "data": {
      "text/plain": [
       "[RequestOutput(request_id=0, prompt='<|im_start|>system\\nYou are Qwen, created by Alibaba Cloud. You are a helpful assistant.<|im_end|>\\n<|im_start|>user\\nYou are a data visualization expert whose goal is to suggest most insighful visualization from a list of options.  \\n    You will be provided with two inputs:\\n\\n    1. **Summary statistics** (the comma seperated output of `df.describe()`)  \\n    2. **Ten sample rows** from the dataset, each row on its own line, with comma‑separated values.\\n\\n    Your task is to:\\n\\n    1. Choose **one** visualization from this list of common exploratory plots:\\n    - Histogram  \\n    - Box plot  \\n    - Scatter plot  \\n    - Bar chart  \\n    - Line chart  \\n    - Heatmap (e.g. correlation matrix)  \\n    - Pair plot (scatterplot matrix)  \\n    - Violin plot  \\n    - Density plot  \\n    - Stacked bar chart  \\n\\n    2. Explain your **rationale** for selecting that visualization given the summary statistics and sample rows.\\n\\n    Inputs:\\n    1. Summary statistics:\\n    ,sepal length (cm),sepal width (cm),petal length (cm),petal width (cm)\\ncount,150.0,150.0,150.0,150.0\\nmean,5.843333333333334,3.0573333333333337,3.7580000000000005,1.1993333333333336\\nstd,0.828066127977863,0.4358662849366982,1.7652982332594662,0.7622376689603465\\nmin,4.3,2.0,1.0,0.1\\n25%,5.1,2.8,1.6,0.3\\n50%,5.8,3.0,4.35,1.3\\n75%,6.4,3.3,5.1,1.8\\nmax,7.9,4.4,6.9,2.5\\n\\n\\n    2. Ten randomly selected rows from the dataset:\\n    sepal length (cm),sepal width (cm),petal length (cm),petal width (cm),target\\n6.1,2.8,4.7,1.2,versicolor\\n5.7,3.8,1.7,0.3,setosa\\n7.7,2.6,6.9,2.3,virginica\\n6.0,2.9,4.5,1.5,versicolor\\n6.8,2.8,4.8,1.4,versicolor\\n5.4,3.4,1.5,0.4,setosa\\n5.6,2.9,3.6,1.3,versicolor\\n6.9,3.1,5.1,2.3,virginica\\n6.2,2.2,4.5,1.5,versicolor\\n5.8,2.7,3.9,1.2,versicolor\\n\\n\\n    Provide your answer in the format \\\\boxed{answer} at the end.<|im_end|>\\n<|im_start|>assistant\\n', prompt_token_ids=[151644, 8948, 198, 2610, 525, 1207, 16948, 11, 3465, 553, 54364, 14817, 13, 1446, 525, 264, 10950, 17847, 13, 151645, 198, 151644, 872, 198, 2610, 525, 264, 821, 41048, 6203, 6693, 5795, 374, 311, 4190, 1429, 1640, 1090, 1262, 41048, 504, 264, 1140, 315, 2606, 13, 2303, 262, 1446, 686, 387, 3897, 448, 1378, 11127, 1447, 262, 220, 16, 13, 3070, 19237, 13142, 334, 320, 1782, 31683, 48354, 657, 2550, 315, 1565, 2940, 41965, 368, 32881, 2303, 262, 220, 17, 13, 3070, 32687, 6077, 6978, 334, 504, 279, 10337, 11, 1817, 2802, 389, 1181, 1828, 1555, 11, 448, 31683, 55964, 325, 49600, 2750, 382, 262, 4615, 3383, 374, 311, 1447, 262, 220, 16, 13, 22201, 3070, 603, 334, 41048, 504, 419, 1140, 315, 4185, 47439, 5269, 30694, 510, 262, 481, 82138, 2303, 262, 481, 8261, 7089, 2303, 262, 481, 94359, 7089, 2303, 262, 481, 4716, 9487, 2303, 262, 481, 7083, 9487, 2303, 262, 481, 26070, 2186, 320, 68, 1302, 13, 25588, 6172, 8, 2303, 262, 481, 25995, 7089, 320, 70250, 4469, 6172, 8, 2303, 262, 481, 29455, 258, 7089, 2303, 262, 481, 72610, 7089, 2303, 262, 481, 794, 11191, 3619, 9487, 18611, 262, 220, 17, 13, 81917, 697, 3070, 2165, 1574, 334, 369, 26301, 429, 41048, 2661, 279, 12126, 13142, 323, 6077, 6978, 382, 262, 46281, 510, 262, 220, 16, 13, 21517, 13142, 510, 262, 1154, 325, 19308, 3084, 320, 6226, 701, 325, 19308, 2374, 320, 6226, 701, 6862, 278, 3084, 320, 6226, 701, 6862, 278, 2374, 320, 6226, 340, 1830, 11, 16, 20, 15, 13, 15, 11, 16, 20, 15, 13, 15, 11, 16, 20, 15, 13, 15, 11, 16, 20, 15, 13, 15, 198, 14287, 11, 20, 13, 23, 19, 18, 18, 18, 18, 18, 18, 18, 18, 18, 18, 18, 18, 19, 11, 18, 13, 15, 20, 22, 18, 18, 18, 18, 18, 18, 18, 18, 18, 18, 18, 18, 22, 11, 18, 13, 22, 20, 23, 15, 15, 15, 15, 15, 15, 15, 15, 15, 15, 15, 15, 20, 11, 16, 13, 16, 24, 24, 18, 18, 18, 18, 18, 18, 18, 18, 18, 18, 18, 18, 21, 198, 1834, 11, 15, 13, 23, 17, 23, 15, 21, 21, 16, 17, 22, 24, 22, 22, 23, 21, 18, 11, 15, 13, 19, 18, 20, 23, 21, 21, 17, 23, 19, 24, 18, 21, 21, 24, 23, 17, 11, 16, 13, 22, 21, 20, 17, 24, 23, 17, 18, 18, 17, 20, 24, 19, 21, 21, 17, 11, 15, 13, 22, 21, 17, 17, 18, 22, 21, 21, 23, 24, 21, 15, 18, 19, 21, 20, 198, 1065, 11, 19, 13, 18, 11, 17, 13, 15, 11, 16, 13, 15, 11, 15, 13, 16, 198, 17, 20, 13384, 20, 13, 16, 11, 17, 13, 23, 11, 16, 13, 21, 11, 15, 13, 18, 198, 20, 15, 13384, 20, 13, 23, 11, 18, 13, 15, 11, 19, 13, 18, 20, 11, 16, 13, 18, 198, 22, 20, 13384, 21, 13, 19, 11, 18, 13, 18, 11, 20, 13, 16, 11, 16, 13, 23, 198, 2810, 11, 22, 13, 24, 11, 19, 13, 19, 11, 21, 13, 24, 11, 17, 13, 20, 1406, 262, 220, 17, 13, 17695, 26618, 4091, 6978, 504, 279, 10337, 510, 262, 511, 19308, 3084, 320, 6226, 701, 325, 19308, 2374, 320, 6226, 701, 6862, 278, 3084, 320, 6226, 701, 6862, 278, 2374, 320, 6226, 701, 5657, 198, 21, 13, 16, 11, 17, 13, 23, 11, 19, 13, 22, 11, 16, 13, 17, 11, 3004, 73809, 198, 20, 13, 22, 11, 18, 13, 23, 11, 16, 13, 22, 11, 15, 13, 18, 95510, 11983, 198, 22, 13, 22, 11, 17, 13, 21, 11, 21, 13, 24, 11, 17, 13, 18, 14270, 404, 8163, 3001, 198, 21, 13, 15, 11, 17, 13, 24, 11, 19, 13, 20, 11, 16, 13, 20, 11, 3004, 73809, 198, 21, 13, 23, 11, 17, 13, 23, 11, 19, 13, 23, 11, 16, 13, 19, 11, 3004, 73809, 198, 20, 13, 19, 11, 18, 13, 19, 11, 16, 13, 20, 11, 15, 13, 19, 95510, 11983, 198, 20, 13, 21, 11, 17, 13, 24, 11, 18, 13, 21, 11, 16, 13, 18, 11, 3004, 73809, 198, 21, 13, 24, 11, 18, 13, 16, 11, 20, 13, 16, 11, 17, 13, 18, 14270, 404, 8163, 3001, 198, 21, 13, 17, 11, 17, 13, 17, 11, 19, 13, 20, 11, 16, 13, 20, 11, 3004, 73809, 198, 20, 13, 23, 11, 17, 13, 22, 11, 18, 13, 24, 11, 16, 13, 17, 11, 3004, 73809, 1406, 262, 39565, 697, 4226, 304, 279, 3561, 1124, 79075, 90, 9217, 92, 518, 279, 835, 13, 151645, 198, 151644, 77091, 198], encoder_prompt=None, encoder_prompt_token_ids=None, prompt_logprobs=None, outputs=[CompletionOutput(index=0, text='Given the summary statistics and sample rows from the dataset, I would recommend a **scatter plot** for the exploratory data analysis in this instance.\\n\\n**Rationale:**\\n\\n1. **Summary Statistics:** The statistics reveal that the dataset consists of four continuous variables (sepal length, sepal width, petal length, petal width), each with a min, max, mean, and standard deviation (among others). Given these variables represent physical measurements, and knowing the target column seems associated with a category (e.g., \"setosa\", \"versicolor\", \"virginica\"), a scatter plot could be quite illuminating.\\n\\n2. **Sample Rows Observation:** The sample rows from the dataset include an additional column `\"target\"` that classifies the entries as species types (\"setosa\", \"versicolor\", \"virginica\"). A scatter plot would be an effective way to visualize the distribution of these measurements for each of the species.\\n\\nWith a scatter plot, we can select two of the features to plot on the x and y-axis and color each data point by the species type. This way, patterns such as clusters or separations among the species can be easily visualized and有助于发现不同种类之间的模式或分离。这种可视化可以帮助我们更直观地理解各种属性之间的关系，同时也能识别出物种之间的潜在差异。\\n\\n选择散点图可以从多个角度探索数据，如不同属性之间的关系、属性值的范围、每种花的分布情况等，这对于初步理解和分析这种多变量数据集非常有用。\\n\\n选择散点图中的“petal length”（花瓣长度）作为y轴和“petal width”（花瓣宽度）作为x轴，并用不同的颜色代表不同种类，是因为这四个样本行显示它们在“petal length”和“petal width”两关系具有较好的可分性，并且这两个属性可能是用于区分欧芹的最明显的特征之一（例如，可以很容易把setosa与versicolor和virginica区分开来）。\\n\\n因此，最终选择的回答应该是 \\\\boxed{scatter plot}。', token_ids=(22043, 279, 12126, 13142, 323, 6077, 6978, 504, 279, 10337, 11, 358, 1035, 6934, 264, 3070, 70250, 7089, 334, 369, 279, 47439, 5269, 821, 6358, 304, 419, 2867, 382, 334, 49, 37035, 25, 56177, 16, 13, 3070, 19237, 24624, 66963, 576, 13142, 16400, 429, 279, 10337, 17167, 315, 3040, 19259, 7332, 320, 325, 19308, 3084, 11, 511, 19308, 2374, 11, 6753, 278, 3084, 11, 6753, 278, 2374, 701, 1817, 448, 264, 1308, 11, 1932, 11, 3076, 11, 323, 5297, 37564, 320, 76305, 3800, 568, 16246, 1493, 7332, 4009, 6961, 21595, 11, 323, 14063, 279, 2169, 3250, 4977, 5815, 448, 264, 5582, 320, 68, 1302, 2572, 330, 746, 11983, 497, 330, 3004, 73809, 497, 330, 45857, 8163, 3001, 3975, 264, 44477, 7089, 1410, 387, 5008, 42987, 1095, 382, 17, 13, 3070, 17571, 61706, 86429, 66963, 576, 6077, 6978, 504, 279, 10337, 2924, 458, 5107, 3250, 53305, 5657, 39917, 429, 536, 9606, 279, 10695, 438, 9419, 4494, 3489, 746, 11983, 497, 330, 3004, 73809, 497, 330, 45857, 8163, 3001, 1827, 362, 44477, 7089, 1035, 387, 458, 7373, 1616, 311, 50087, 279, 7982, 315, 1493, 21595, 369, 1817, 315, 279, 9419, 382, 2354, 264, 44477, 7089, 11, 582, 646, 3293, 1378, 315, 279, 4419, 311, 7089, 389, 279, 856, 323, 379, 35321, 323, 1894, 1817, 821, 1459, 553, 279, 9419, 943, 13, 1096, 1616, 11, 12624, 1741, 438, 26968, 476, 4836, 804, 4221, 279, 9419, 646, 387, 6707, 9124, 1506, 323, 105767, 99879, 99604, 105469, 104186, 100144, 57191, 106201, 1773, 100137, 118417, 111728, 97639, 33126, 110044, 29490, 101128, 100646, 79256, 104186, 100145, 3837, 91572, 104425, 102450, 20221, 112996, 104186, 106362, 102478, 3407, 50404, 99632, 27442, 28029, 112255, 101213, 100884, 101964, 20074, 3837, 29524, 99604, 79256, 104186, 100145, 5373, 79256, 25511, 9370, 101121, 5373, 73157, 86402, 99232, 9370, 101450, 99559, 49567, 3837, 113423, 105185, 115167, 101042, 100137, 42140, 115857, 20074, 42067, 99491, 115404, 3407, 50404, 99632, 27442, 28029, 101047, 2073, 6862, 278, 3084, 854, 9909, 117049, 98402, 7552, 100622, 88, 102390, 33108, 2073, 6862, 278, 2374, 854, 9909, 117049, 112810, 7552, 100622, 87, 102390, 90395, 11622, 101970, 102284, 99661, 99604, 105469, 3837, 104404, 43288, 100802, 110241, 22243, 54021, 104017, 18493, 2073, 6862, 278, 3084, 854, 33108, 2073, 6862, 278, 2374, 854, 77540, 100145, 100629, 109957, 30440, 17177, 33071, 90395, 100136, 105932, 79256, 104560, 100751, 108568, 99831, 117539, 9370, 31235, 106050, 104363, 100653, 9909, 77557, 3837, 73670, 104892, 99360, 746, 11983, 57218, 3004, 73809, 33108, 45857, 8163, 3001, 23836, 107878, 36407, 7552, 3407, 101886, 3837, 103941, 50404, 111423, 104583, 1124, 79075, 90, 70250, 7089, 92, 1773, 151645), cumulative_logprob=None, logprobs=None, finish_reason=stop, stop_reason=None)], finished=True, metrics=RequestMetrics(arrival_time=1745112453.6358275, last_token_time=1745112475.6908727, first_scheduled_time=1745112453.6401432, first_token_time=1745112453.867867, time_in_queue=0.004315614700317383, finished_time=1745112475.691082, scheduler_time=0.029323291208129376, model_forward_time=None, model_execute_time=None), lora_request=None, num_cached_tokens=0, multi_modal_placeholders={})]"
      ]
     },
     "execution_count": 10,
     "metadata": {},
     "output_type": "execute_result"
    }
   ],
   "source": [
    "outputs = llm.generate(prompts, sampling_params, use_tqdm=False)\n",
    "outputs"
   ]
  },
  {
   "cell_type": "code",
   "execution_count": 11,
   "metadata": {},
   "outputs": [
    {
     "data": {
      "text/plain": [
       "'Given the summary statistics and sample rows from the dataset, I would recommend a **scatter plot** for the exploratory data analysis in this instance.\\n\\n**Rationale:**\\n\\n1. **Summary Statistics:** The statistics reveal that the dataset consists of four continuous variables (sepal length, sepal width, petal length, petal width), each with a min, max, mean, and standard deviation (among others). Given these variables represent physical measurements, and knowing the target column seems associated with a category (e.g., \"setosa\", \"versicolor\", \"virginica\"), a scatter plot could be quite illuminating.\\n\\n2. **Sample Rows Observation:** The sample rows from the dataset include an additional column `\"target\"` that classifies the entries as species types (\"setosa\", \"versicolor\", \"virginica\"). A scatter plot would be an effective way to visualize the distribution of these measurements for each of the species.\\n\\nWith a scatter plot, we can select two of the features to plot on the x and y-axis and color each data point by the species type. This way, patterns such as clusters or separations among the species can be easily visualized and有助于发现不同种类之间的模式或分离。这种可视化可以帮助我们更直观地理解各种属性之间的关系，同时也能识别出物种之间的潜在差异。\\n\\n选择散点图可以从多个角度探索数据，如不同属性之间的关系、属性值的范围、每种花的分布情况等，这对于初步理解和分析这种多变量数据集非常有用。\\n\\n选择散点图中的“petal length”（花瓣长度）作为y轴和“petal width”（花瓣宽度）作为x轴，并用不同的颜色代表不同种类，是因为这四个样本行显示它们在“petal length”和“petal width”两关系具有较好的可分性，并且这两个属性可能是用于区分欧芹的最明显的特征之一（例如，可以很容易把setosa与versicolor和virginica区分开来）。\\n\\n因此，最终选择的回答应该是 \\\\boxed{scatter plot}。'"
      ]
     },
     "execution_count": 11,
     "metadata": {},
     "output_type": "execute_result"
    }
   ],
   "source": [
    "outputs[0].outputs[0].text #scatter plot"
   ]
  },
  {
   "cell_type": "code",
   "execution_count": 4,
   "metadata": {},
   "outputs": [
    {
     "name": "stdout",
     "output_type": "stream",
     "text": [
      "Given the summary statistics and sample rows from the dataset, I would recommend a **scatter plot** for the exploratory data analysis in this instance.\n",
      "\n",
      "**Rationale:**\n",
      "\n",
      "1. **Summary Statistics:** The statistics reveal that the dataset consists of four continuous variables (sepal length, sepal width, petal length, petal width), each with a min, max, mean, and standard deviation (among others). Given these variables represent physical measurements, and knowing the target column seems associated with a category (e.g., \"setosa\", \"versicolor\", \"virginica\"), a scatter plot could be quite illuminating.\n",
      "\n",
      "2. **Sample Rows Observation:** The sample rows from the dataset include an additional column `\"target\"` that classifies the entries as species types (\"setosa\", \"versicolor\", \"virginica\"). A scatter plot would be an effective way to visualize the distribution of these measurements for each of the species.\n",
      "\n",
      "With a scatter plot, we can select two of the features to plot on the x and y-axis and color each data point by the species type. This way, patterns such as clusters or separations among the species can be easily visualized and有助于发现不同种类之间的模式或分离。这种可视化可以帮助我们更直观地理解各种属性之间的关系，同时也能识别出物种之间的潜在差异。\n",
      "\n",
      "选择散点图可以从多个角度探索数据，如不同属性之间的关系、属性值的范围、每种花的分布情况等，这对于初步理解和分析这种多变量数据集非常有用。\n",
      "\n",
      "选择散点图中的“petal length”（花瓣长度）作为y轴和“petal width”（花瓣宽度）作为x轴，并用不同的颜色代表不同种类，是因为这四个样本行显示它们在“petal length”和“petal width”两关系具有较好的可分性，并且这两个属性可能是用于区分欧芹的最明显的特征之一（例如，可以很容易把setosa与versicolor和virginica区分开来）。\n",
      "\n",
      "因此，最终选择的回答应该是 \\boxed{scatter plot}。\n"
     ]
    }
   ],
   "source": [
    "s = 'Given the summary statistics and sample rows from the dataset, I would recommend a **scatter plot** for the exploratory data analysis in this instance.\\n\\n**Rationale:**\\n\\n1. **Summary Statistics:** The statistics reveal that the dataset consists of four continuous variables (sepal length, sepal width, petal length, petal width), each with a min, max, mean, and standard deviation (among others). Given these variables represent physical measurements, and knowing the target column seems associated with a category (e.g., \"setosa\", \"versicolor\", \"virginica\"), a scatter plot could be quite illuminating.\\n\\n2. **Sample Rows Observation:** The sample rows from the dataset include an additional column `\"target\"` that classifies the entries as species types (\"setosa\", \"versicolor\", \"virginica\"). A scatter plot would be an effective way to visualize the distribution of these measurements for each of the species.\\n\\nWith a scatter plot, we can select two of the features to plot on the x and y-axis and color each data point by the species type. This way, patterns such as clusters or separations among the species can be easily visualized and有助于发现不同种类之间的模式或分离。这种可视化可以帮助我们更直观地理解各种属性之间的关系，同时也能识别出物种之间的潜在差异。\\n\\n选择散点图可以从多个角度探索数据，如不同属性之间的关系、属性值的范围、每种花的分布情况等，这对于初步理解和分析这种多变量数据集非常有用。\\n\\n选择散点图中的“petal length”（花瓣长度）作为y轴和“petal width”（花瓣宽度）作为x轴，并用不同的颜色代表不同种类，是因为这四个样本行显示它们在“petal length”和“petal width”两关系具有较好的可分性，并且这两个属性可能是用于区分欧芹的最明显的特征之一（例如，可以很容易把setosa与versicolor和virginica区分开来）。\\n\\n因此，最终选择的回答应该是 \\\\boxed{scatter plot}。'\n",
    "print(s)"
   ]
  },
  {
   "cell_type": "markdown",
   "metadata": {},
   "source": [
    "## Diabetes"
   ]
  },
  {
   "cell_type": "code",
   "execution_count": 12,
   "metadata": {},
   "outputs": [],
   "source": [
    "diabetes = load_diabetes()\n",
    "df_diabetes = pd.DataFrame(diabetes.data, columns=diabetes.feature_names)"
   ]
  },
  {
   "cell_type": "code",
   "execution_count": 13,
   "metadata": {},
   "outputs": [],
   "source": [
    "summary_statistics,sampled_rows = get_summary_stat_and_rows(df_diabetes)\n",
    "prompt = get_prompt(summary_statistics,sampled_rows)"
   ]
  },
  {
   "cell_type": "code",
   "execution_count": 14,
   "metadata": {},
   "outputs": [],
   "source": [
    "messages = [\n",
    "                {\n",
    "                    \"role\": \"user\",\n",
    "                    \"content\": prompt\n",
    "                }\n",
    "            ]\n",
    "prompts = tokenizer.apply_chat_template(messages, add_generation_prompt=True, tokenize=False)"
   ]
  },
  {
   "cell_type": "code",
   "execution_count": 15,
   "metadata": {},
   "outputs": [
    {
     "data": {
      "text/plain": [
       "\"Given the summary statistics and sample rows, I would recommend a Box plot as the best choice for visualization. \\n\\nThe rationale is as follows:\\n- The summary statistics indicate that all variables are centered around zero or very close to it ('mean' column values are very close to zero, sometimes even ~0), which makes integer value labels for bar charts less appropriate here since it appears these are standardized or normalized values.\\n- The data seems to be continuous in nature (with a 'count' and 'mean'), suggesting that histograms (for distribution exploration of individual variables) or box plots (for understanding spread, outliers, and comparison across variables) could be highly insightful.\\n- Box plots are particularly useful here as they succinctly summarize the distribution of data for multiple variables across their quartiles, medians, ranges, and potential outliers, and they can be compared side by side effectively, which is not as easily done with, say, individual histograms of each variable.\\n- None of the variables exhibit obvious time-series properties (which would suggest a line chart) or nominal categories (which would suit a bar chart), but they do show variability which is well-addressed by a box plot.\\n- Since there are numerous variables all centered on zero, a box plot can effectively communicate the variability within these already denormalized scores across all dimensions at once without needing confusing labeling or high-density plots.\\n\\nSo the recommended visualization is:\\n\\\\boxed{Box plot}\""
      ]
     },
     "execution_count": 15,
     "metadata": {},
     "output_type": "execute_result"
    }
   ],
   "source": [
    "outputs = llm.generate(prompts, sampling_params, use_tqdm=False)\n",
    "outputs[0].outputs[0].text #box plot"
   ]
  },
  {
   "cell_type": "code",
   "execution_count": 3,
   "metadata": {},
   "outputs": [
    {
     "name": "stdout",
     "output_type": "stream",
     "text": [
      "Given the summary statistics and sample rows, I would recommend a Box plot as the best choice for visualization. \n",
      "\n",
      "The rationale is as follows:\n",
      "- The summary statistics indicate that all variables are centered around zero or very close to it ('mean' column values are very close to zero, sometimes even ~0), which makes integer value labels for bar charts less appropriate here since it appears these are standardized or normalized values.\n",
      "- The data seems to be continuous in nature (with a 'count' and 'mean'), suggesting that histograms (for distribution exploration of individual variables) or box plots (for understanding spread, outliers, and comparison across variables) could be highly insightful.\n",
      "- Box plots are particularly useful here as they succinctly summarize the distribution of data for multiple variables across their quartiles, medians, ranges, and potential outliers, and they can be compared side by side effectively, which is not as easily done with, say, individual histograms of each variable.\n",
      "- None of the variables exhibit obvious time-series properties (which would suggest a line chart) or nominal categories (which would suit a bar chart), but they do show variability which is well-addressed by a box plot.\n",
      "- Since there are numerous variables all centered on zero, a box plot can effectively communicate the variability within these already denormalized scores across all dimensions at once without needing confusing labeling or high-density plots.\n",
      "\n",
      "So the recommended visualization is:\n",
      "\\boxed{Box plot}\n"
     ]
    }
   ],
   "source": [
    "s = \"Given the summary statistics and sample rows, I would recommend a Box plot as the best choice for visualization. \\n\\nThe rationale is as follows:\\n- The summary statistics indicate that all variables are centered around zero or very close to it ('mean' column values are very close to zero, sometimes even ~0), which makes integer value labels for bar charts less appropriate here since it appears these are standardized or normalized values.\\n- The data seems to be continuous in nature (with a 'count' and 'mean'), suggesting that histograms (for distribution exploration of individual variables) or box plots (for understanding spread, outliers, and comparison across variables) could be highly insightful.\\n- Box plots are particularly useful here as they succinctly summarize the distribution of data for multiple variables across their quartiles, medians, ranges, and potential outliers, and they can be compared side by side effectively, which is not as easily done with, say, individual histograms of each variable.\\n- None of the variables exhibit obvious time-series properties (which would suggest a line chart) or nominal categories (which would suit a bar chart), but they do show variability which is well-addressed by a box plot.\\n- Since there are numerous variables all centered on zero, a box plot can effectively communicate the variability within these already denormalized scores across all dimensions at once without needing confusing labeling or high-density plots.\\n\\nSo the recommended visualization is:\\n\\\\boxed{Box plot}\"\n",
    "print(s)"
   ]
  },
  {
   "cell_type": "markdown",
   "metadata": {},
   "source": [
    "## Wine"
   ]
  },
  {
   "cell_type": "code",
   "execution_count": 16,
   "metadata": {},
   "outputs": [],
   "source": [
    "wine = load_wine()\n",
    "df_wine = pd.DataFrame(wine.data, columns=wine.feature_names)\n",
    "df_wine['target'] = [wine.target_names[t] for t in wine.target]"
   ]
  },
  {
   "cell_type": "code",
   "execution_count": 17,
   "metadata": {},
   "outputs": [],
   "source": [
    "summary_statistics, sampled_rows = get_summary_stat_and_rows(df_wine)\n",
    "prompt = get_prompt(summary_statistics,sampled_rows)\n",
    "messages = [\n",
    "                {\n",
    "                    \"role\": \"user\",\n",
    "                    \"content\": prompt\n",
    "                }\n",
    "            ]\n",
    "prompts = tokenizer.apply_chat_template(messages, add_generation_prompt=True, tokenize=False)"
   ]
  },
  {
   "cell_type": "code",
   "execution_count": 18,
   "metadata": {},
   "outputs": [
    {
     "data": {
      "text/plain": [
       "\"Given the summary statistics and the sample rows, the dataset seems to contain measurements of various chemical components (such as alcohol content, flavanoids, proline) of wine, potentially for different types of wines labeled by `target`. There are numerical attributes like `alcohol`, `malic_acid`, etc., with a range and spread that can vary significantly, indicating they're likely continuous variables suitable for exploratory visualizations.\\n\\nA **box plot** would be an insightful visualization choice because it can effectively show the distribution of each numeric variable such as `alcohol`, `malic_acid`, `ash`, etc., revealing the central tendency, dispersion, and skewness. More importantly, if plotted separately for each value of the `target` variable (which seems to indicate different wine classes), the box plot can provide a direct comparison of how each variable's measurements differ across the different wine types. This will highlight differences that can be predictive (e.g., alcohol content for wine class 0 might have a higher median compared to class 2), aiding in pattern recognition.\\n\\nGiven the multi-dimensional and numerical nature of the data, and the need to easily compare distributions across the `target` classes, the box plot stands out as the most insightful starting point for exploratory data analysis.\\n\\n\\\\boxed{Box plot}\""
      ]
     },
     "execution_count": 18,
     "metadata": {},
     "output_type": "execute_result"
    }
   ],
   "source": [
    "outputs = llm.generate(prompts, sampling_params, use_tqdm=False)\n",
    "outputs[0].outputs[0].text #box plot"
   ]
  },
  {
   "cell_type": "code",
   "execution_count": 2,
   "metadata": {},
   "outputs": [
    {
     "name": "stdout",
     "output_type": "stream",
     "text": [
      "Given the summary statistics and the sample rows, the dataset seems to contain measurements of various chemical components (such as alcohol content, flavanoids, proline) of wine, potentially for different types of wines labeled by `target`. There are numerical attributes like `alcohol`, `malic_acid`, etc., with a range and spread that can vary significantly, indicating they're likely continuous variables suitable for exploratory visualizations.\n",
      "\n",
      "A **box plot** would be an insightful visualization choice because it can effectively show the distribution of each numeric variable such as `alcohol`, `malic_acid`, `ash`, etc., revealing the central tendency, dispersion, and skewness. More importantly, if plotted separately for each value of the `target` variable (which seems to indicate different wine classes), the box plot can provide a direct comparison of how each variable's measurements differ across the different wine types. This will highlight differences that can be predictive (e.g., alcohol content for wine class 0 might have a higher median compared to class 2), aiding in pattern recognition.\n",
      "\n",
      "Given the multi-dimensional and numerical nature of the data, and the need to easily compare distributions across the `target` classes, the box plot stands out as the most insightful starting point for exploratory data analysis.\n",
      "\n",
      "\\boxed{Box plot}\n"
     ]
    }
   ],
   "source": [
    "s = \"Given the summary statistics and the sample rows, the dataset seems to contain measurements of various chemical components (such as alcohol content, flavanoids, proline) of wine, potentially for different types of wines labeled by `target`. There are numerical attributes like `alcohol`, `malic_acid`, etc., with a range and spread that can vary significantly, indicating they're likely continuous variables suitable for exploratory visualizations.\\n\\nA **box plot** would be an insightful visualization choice because it can effectively show the distribution of each numeric variable such as `alcohol`, `malic_acid`, `ash`, etc., revealing the central tendency, dispersion, and skewness. More importantly, if plotted separately for each value of the `target` variable (which seems to indicate different wine classes), the box plot can provide a direct comparison of how each variable's measurements differ across the different wine types. This will highlight differences that can be predictive (e.g., alcohol content for wine class 0 might have a higher median compared to class 2), aiding in pattern recognition.\\n\\nGiven the multi-dimensional and numerical nature of the data, and the need to easily compare distributions across the `target` classes, the box plot stands out as the most insightful starting point for exploratory data analysis.\\n\\n\\\\boxed{Box plot}\"\n",
    "print(s)"
   ]
  },
  {
   "cell_type": "markdown",
   "metadata": {},
   "source": [
    "## Breast cancer"
   ]
  },
  {
   "cell_type": "code",
   "execution_count": 19,
   "metadata": {},
   "outputs": [],
   "source": [
    "breast_cancer = load_breast_cancer()\n",
    "df_breast_cancer = pd.DataFrame(breast_cancer.data, columns=breast_cancer.feature_names)\n",
    "df_breast_cancer['target'] = [breast_cancer.target_names[t] for t in breast_cancer.target]"
   ]
  },
  {
   "cell_type": "code",
   "execution_count": 20,
   "metadata": {},
   "outputs": [],
   "source": [
    "summary_statistics, sampled_rows = get_summary_stat_and_rows(df_breast_cancer)"
   ]
  },
  {
   "cell_type": "code",
   "execution_count": 21,
   "metadata": {},
   "outputs": [],
   "source": [
    "prompt = get_prompt(summary_statistics,sampled_rows)"
   ]
  },
  {
   "cell_type": "code",
   "execution_count": 22,
   "metadata": {},
   "outputs": [],
   "source": [
    "messages = [\n",
    "                {\n",
    "                    \"role\": \"user\",\n",
    "                    \"content\": prompt\n",
    "                }\n",
    "            ]\n",
    "prompts = tokenizer.apply_chat_template(messages, add_generation_prompt=True, tokenize=False)"
   ]
  },
  {
   "cell_type": "code",
   "execution_count": 23,
   "metadata": {},
   "outputs": [
    {
     "data": {
      "text/plain": [
       "\"Given the summary statistics and sample rows, we can observe that the dataset contains features which describe tumor characteristics (mean, worst, and error values for various shape-based factors). The target class indicates if the tumor is either benign or malignant.\\n\\nTo understand the distribution of these features or identify whether certain features differ notably between benign and malignant tumors, **box plots** for each feature could help in several ways:\\n- Visualize the central tendency, spread and skewness of the data.\\n- Easily spot any outliers.\\n- Compare distributions between benign and malignant categories.\\n\\nGiven the number of features provided (e.g., mean_radius, mean_texture, etc.), box plots offer a concise way to summarize these distributions and provide insights into whether benign or malignant tumors have specific characteristics based on these features. Since these features are continuous and typically being analyzed to distinguish between two categories (benign vs. malignant), a box plot would allow an easy qualitative visualization to grasp the feature's distribution breakdown according to the categories.\\n\\nTherefore, the best visualization in this context would be:\\n\\n\\\\boxed{Box plot}\""
      ]
     },
     "execution_count": 23,
     "metadata": {},
     "output_type": "execute_result"
    }
   ],
   "source": [
    "outputs = llm.generate(prompts, sampling_params, use_tqdm=False)\n",
    "outputs[0].outputs[0].text # box plot"
   ]
  },
  {
   "cell_type": "code",
   "execution_count": 1,
   "metadata": {},
   "outputs": [
    {
     "name": "stdout",
     "output_type": "stream",
     "text": [
      "Given the summary statistics and sample rows, we can observe that the dataset contains features which describe tumor characteristics (mean, worst, and error values for various shape-based factors). The target class indicates if the tumor is either benign or malignant.\n",
      "\n",
      "To understand the distribution of these features or identify whether certain features differ notably between benign and malignant tumors, **box plots** for each feature could help in several ways:\n",
      "- Visualize the central tendency, spread and skewness of the data.\n",
      "- Easily spot any outliers.\n",
      "- Compare distributions between benign and malignant categories.\n",
      "\n",
      "Given the number of features provided (e.g., mean_radius, mean_texture, etc.), box plots offer a concise way to summarize these distributions and provide insights into whether benign or malignant tumors have specific characteristics based on these features. Since these features are continuous and typically being analyzed to distinguish between two categories (benign vs. malignant), a box plot would allow an easy qualitative visualization to grasp the feature's distribution breakdown according to the categories.\n",
      "\n",
      "Therefore, the best visualization in this context would be:\n",
      "\n",
      "\\boxed{Box plot}\n"
     ]
    }
   ],
   "source": [
    "s = \"Given the summary statistics and sample rows, we can observe that the dataset contains features which describe tumor characteristics (mean, worst, and error values for various shape-based factors). The target class indicates if the tumor is either benign or malignant.\\n\\nTo understand the distribution of these features or identify whether certain features differ notably between benign and malignant tumors, **box plots** for each feature could help in several ways:\\n- Visualize the central tendency, spread and skewness of the data.\\n- Easily spot any outliers.\\n- Compare distributions between benign and malignant categories.\\n\\nGiven the number of features provided (e.g., mean_radius, mean_texture, etc.), box plots offer a concise way to summarize these distributions and provide insights into whether benign or malignant tumors have specific characteristics based on these features. Since these features are continuous and typically being analyzed to distinguish between two categories (benign vs. malignant), a box plot would allow an easy qualitative visualization to grasp the feature's distribution breakdown according to the categories.\\n\\nTherefore, the best visualization in this context would be:\\n\\n\\\\boxed{Box plot}\"\n",
    "print(s)"
   ]
  },
  {
   "cell_type": "code",
   "execution_count": null,
   "metadata": {},
   "outputs": [],
   "source": []
  }
 ],
 "metadata": {
  "kernelspec": {
   "display_name": "nlp",
   "language": "python",
   "name": "python3"
  },
  "language_info": {
   "codemirror_mode": {
    "name": "ipython",
    "version": 3
   },
   "file_extension": ".py",
   "mimetype": "text/x-python",
   "name": "python",
   "nbconvert_exporter": "python",
   "pygments_lexer": "ipython3",
   "version": "3.10.16"
  }
 },
 "nbformat": 4,
 "nbformat_minor": 2
}
