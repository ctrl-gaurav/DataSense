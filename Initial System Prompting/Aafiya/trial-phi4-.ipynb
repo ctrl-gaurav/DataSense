{
 "cells": [
  {
   "cell_type": "code",
   "execution_count": 1,
   "metadata": {},
   "outputs": [],
   "source": [
    "import os\n",
    "os.environ[\"CUDA_VISIBLE_DEVICES\"] = \"2\""
   ]
  },
  {
   "cell_type": "code",
   "execution_count": 2,
   "metadata": {},
   "outputs": [
    {
     "name": "stderr",
     "output_type": "stream",
     "text": [
      "/home/grads/aafiyahussain/miniconda3/envs/nlp/lib/python3.10/site-packages/tqdm/auto.py:21: TqdmWarning: IProgress not found. Please update jupyter and ipywidgets. See https://ipywidgets.readthedocs.io/en/stable/user_install.html\n",
      "  from .autonotebook import tqdm as notebook_tqdm\n",
      "2025-04-19 21:29:00,486\tINFO util.py:154 -- Missing packages: ['ipywidgets']. Run `pip install -U ipywidgets`, then restart the notebook server for rich notebook output.\n"
     ]
    }
   ],
   "source": [
    "from sklearn.datasets import *\n",
    "import pandas as pd\n",
    "from vllm import LLM, SamplingParams\n",
    "from transformers import AutoTokenizer"
   ]
  },
  {
   "cell_type": "code",
   "execution_count": 3,
   "metadata": {},
   "outputs": [],
   "source": [
    "sampling_params = SamplingParams(max_tokens=512,temperature=1.2)"
   ]
  },
  {
   "cell_type": "code",
   "execution_count": 4,
   "metadata": {},
   "outputs": [
    {
     "name": "stdout",
     "output_type": "stream",
     "text": [
      "INFO 04-19 21:29:09 __init__.py:207] Automatically detected platform cuda.\n",
      "INFO 04-19 21:29:10 config.py:208] Replacing legacy 'type' key with 'rope_type'\n",
      "INFO 04-19 21:29:20 config.py:549] This model supports multiple tasks: {'embed', 'reward', 'classify', 'score', 'generate'}. Defaulting to 'generate'.\n",
      "INFO 04-19 21:29:20 llm_engine.py:234] Initializing a V0 LLM engine (v0.7.3) with config: model='microsoft/Phi-4-mini-instruct', speculative_config=None, tokenizer='microsoft/Phi-4-mini-instruct', skip_tokenizer_init=False, tokenizer_mode=auto, revision=None, override_neuron_config=None, tokenizer_revision=None, trust_remote_code=False, dtype=torch.bfloat16, max_seq_len=8192, download_dir=None, load_format=auto, tensor_parallel_size=1, pipeline_parallel_size=1, disable_custom_all_reduce=False, quantization=None, enforce_eager=False, kv_cache_dtype=auto,  device_config=cuda, decoding_config=DecodingConfig(guided_decoding_backend='xgrammar'), observability_config=ObservabilityConfig(otlp_traces_endpoint=None, collect_model_forward_time=False, collect_model_execute_time=False), seed=0, served_model_name=microsoft/Phi-4-mini-instruct, num_scheduler_steps=1, multi_step_stream_outputs=True, enable_prefix_caching=False, chunked_prefill_enabled=False, use_async_output_proc=True, disable_mm_preprocessor_cache=False, mm_processor_kwargs=None, pooler_config=None, compilation_config={\"splitting_ops\":[],\"compile_sizes\":[],\"cudagraph_capture_sizes\":[256,248,240,232,224,216,208,200,192,184,176,168,160,152,144,136,128,120,112,104,96,88,80,72,64,56,48,40,32,24,16,8,4,2,1],\"max_capture_size\":256}, use_cached_outputs=False, \n",
      "INFO 04-19 21:29:22 cuda.py:229] Using Flash Attention backend.\n",
      "INFO 04-19 21:29:23 model_runner.py:1110] Starting to load model microsoft/Phi-4-mini-instruct...\n",
      "INFO 04-19 21:29:24 weight_utils.py:254] Using model weights format ['*.safetensors']\n",
      "INFO 04-19 21:31:32 weight_utils.py:270] Time spent downloading weights for microsoft/Phi-4-mini-instruct: 127.871133 seconds\n"
     ]
    },
    {
     "name": "stderr",
     "output_type": "stream",
     "text": [
      "Loading safetensors checkpoint shards:   0% Completed | 0/2 [00:00<?, ?it/s]\n",
      "Loading safetensors checkpoint shards:  50% Completed | 1/2 [00:23<00:23, 23.85s/it]\n",
      "Loading safetensors checkpoint shards: 100% Completed | 2/2 [01:06<00:00, 34.73s/it]\n",
      "Loading safetensors checkpoint shards: 100% Completed | 2/2 [01:06<00:00, 33.09s/it]\n",
      "\n"
     ]
    },
    {
     "name": "stdout",
     "output_type": "stream",
     "text": [
      "INFO 04-19 21:32:39 model_runner.py:1115] Loading model weights took 7.1694 GB\n",
      "INFO 04-19 21:32:40 worker.py:267] Memory profiling takes 1.36 seconds\n",
      "INFO 04-19 21:32:40 worker.py:267] the current vLLM instance can use total_gpu_memory (44.43GiB) x gpu_memory_utilization (0.90) = 39.99GiB\n",
      "INFO 04-19 21:32:40 worker.py:267] model weights take 7.17GiB; non_torch_memory takes 0.06GiB; PyTorch activation peak memory takes 1.87GiB; the rest of the memory reserved for KV Cache is 30.89GiB.\n",
      "INFO 04-19 21:32:40 executor_base.py:111] # cuda blocks: 15817, # CPU blocks: 2048\n",
      "INFO 04-19 21:32:40 executor_base.py:116] Maximum concurrency for 8192 tokens per request: 30.89x\n",
      "INFO 04-19 21:32:42 model_runner.py:1434] Capturing cudagraphs for decoding. This may lead to unexpected consequences if the model is not static. To run the model in eager mode, set 'enforce_eager=True' or use '--enforce-eager' in the CLI. If out-of-memory error occurs during cudagraph capture, consider decreasing `gpu_memory_utilization` or switching to eager mode. You can also reduce the `max_num_seqs` as needed to decrease memory usage.\n"
     ]
    },
    {
     "name": "stderr",
     "output_type": "stream",
     "text": [
      "Capturing CUDA graph shapes: 100%|██████████| 35/35 [00:14<00:00,  2.46it/s]"
     ]
    },
    {
     "name": "stdout",
     "output_type": "stream",
     "text": [
      "INFO 04-19 21:32:57 model_runner.py:1562] Graph capturing finished in 14 secs, took 0.41 GiB\n",
      "INFO 04-19 21:32:57 llm_engine.py:436] init engine (profile, create kv cache, warmup model) took 17.95 seconds\n"
     ]
    },
    {
     "name": "stderr",
     "output_type": "stream",
     "text": [
      "\n"
     ]
    }
   ],
   "source": [
    "model_id = \"microsoft/Phi-4-mini-instruct\"\n",
    "tokenizer = AutoTokenizer.from_pretrained(model_id)\n",
    "llm = LLM(\n",
    "    model=model_id,\n",
    "    tensor_parallel_size=1,\n",
    "    max_model_len=8192\n",
    ")"
   ]
  },
  {
   "cell_type": "code",
   "execution_count": 5,
   "metadata": {},
   "outputs": [],
   "source": [
    "def get_prompt(summary_statistics,sampled_rows):\n",
    "    prompt = f\"\"\"You are a data visualization expert whose goal is to suggest most insighful visualization from a list of options.  \n",
    "    You will be provided with two inputs:\n",
    "\n",
    "    1. **Summary statistics** (the comma seperated output of `df.describe()`)  \n",
    "    2. **Ten sample rows** from the dataset, each row on its own line, with comma‑separated values.\n",
    "\n",
    "    Your task is to:\n",
    "\n",
    "    1. Choose **one** visualization from this list of common exploratory plots:\n",
    "    - Histogram  \n",
    "    - Box plot  \n",
    "    - Scatter plot  \n",
    "    - Bar chart  \n",
    "    - Line chart  \n",
    "    - Heatmap (e.g. correlation matrix)  \n",
    "    - Pair plot (scatterplot matrix)  \n",
    "    - Violin plot  \n",
    "    - Density plot  \n",
    "    - Stacked bar chart  \n",
    "\n",
    "    2. Explain your **rationale** for selecting that visualization given the summary statistics and sample rows.\n",
    "\n",
    "    Inputs:\n",
    "    1. Summary statistics:\n",
    "    {summary_statistics}\n",
    "\n",
    "    2. Ten randomly selected rows from the dataset:\n",
    "    {sampled_rows}\n",
    "\n",
    "    Provide your answer in the format \\\\boxed{{answer}} at the end.\"\"\"\n",
    "    return prompt"
   ]
  },
  {
   "cell_type": "code",
   "execution_count": 6,
   "metadata": {},
   "outputs": [],
   "source": [
    "def get_summary_stat_and_rows(df):\n",
    "    summary_statistics = df.describe().to_csv(index=True)\n",
    "    sampled_rows = df.sample(n=10, random_state=42).to_csv(index=False)\n",
    "    return summary_statistics,sampled_rows"
   ]
  },
  {
   "cell_type": "markdown",
   "metadata": {},
   "source": [
    "## Iris"
   ]
  },
  {
   "cell_type": "code",
   "execution_count": 7,
   "metadata": {},
   "outputs": [],
   "source": [
    "iris = load_iris()\n",
    "df_iris = pd.DataFrame(iris.data, columns=iris.feature_names)\n",
    "df_iris['target'] = [iris.target_names[t] for t in iris.target]\n",
    "# csv_data = df_iris.to_csv(index=False)"
   ]
  },
  {
   "cell_type": "code",
   "execution_count": 8,
   "metadata": {},
   "outputs": [],
   "source": [
    "summary_statistics, sampled_rows = get_summary_stat_and_rows(df_iris)"
   ]
  },
  {
   "cell_type": "code",
   "execution_count": 9,
   "metadata": {},
   "outputs": [],
   "source": [
    "prompt = get_prompt(summary_statistics,sampled_rows)"
   ]
  },
  {
   "cell_type": "code",
   "execution_count": 10,
   "metadata": {},
   "outputs": [],
   "source": [
    "messages = [\n",
    "                {\n",
    "                    \"role\": \"user\",\n",
    "                    \"content\": prompt\n",
    "                }\n",
    "            ]\n",
    "prompts = tokenizer.apply_chat_template(messages, add_generation_prompt=True, tokenize=False)"
   ]
  },
  {
   "cell_type": "code",
   "execution_count": 11,
   "metadata": {},
   "outputs": [
    {
     "data": {
      "text/plain": [
       "[RequestOutput(request_id=0, prompt='<|user|>You are a data visualization expert whose goal is to suggest most insighful visualization from a list of options.  \\n    You will be provided with two inputs:\\n\\n    1. **Summary statistics** (the comma seperated output of `df.describe()`)  \\n    2. **Ten sample rows** from the dataset, each row on its own line, with comma‑separated values.\\n\\n    Your task is to:\\n\\n    1. Choose **one** visualization from this list of common exploratory plots:\\n    - Histogram  \\n    - Box plot  \\n    - Scatter plot  \\n    - Bar chart  \\n    - Line chart  \\n    - Heatmap (e.g. correlation matrix)  \\n    - Pair plot (scatterplot matrix)  \\n    - Violin plot  \\n    - Density plot  \\n    - Stacked bar chart  \\n\\n    2. Explain your **rationale** for selecting that visualization given the summary statistics and sample rows.\\n\\n    Inputs:\\n    1. Summary statistics:\\n    ,sepal length (cm),sepal width (cm),petal length (cm),petal width (cm)\\ncount,150.0,150.0,150.0,150.0\\nmean,5.843333333333334,3.0573333333333337,3.7580000000000005,1.1993333333333336\\nstd,0.828066127977863,0.4358662849366982,1.7652982332594662,0.7622376689603465\\nmin,4.3,2.0,1.0,0.1\\n25%,5.1,2.8,1.6,0.3\\n50%,5.8,3.0,4.35,1.3\\n75%,6.4,3.3,5.1,1.8\\nmax,7.9,4.4,6.9,2.5\\n\\n\\n    2. Ten randomly selected rows from the dataset:\\n    sepal length (cm),sepal width (cm),petal length (cm),petal width (cm),target\\n6.1,2.8,4.7,1.2,versicolor\\n5.7,3.8,1.7,0.3,setosa\\n7.7,2.6,6.9,2.3,virginica\\n6.0,2.9,4.5,1.5,versicolor\\n6.8,2.8,4.8,1.4,versicolor\\n5.4,3.4,1.5,0.4,setosa\\n5.6,2.9,3.6,1.3,versicolor\\n6.9,3.1,5.1,2.3,virginica\\n6.2,2.2,4.5,1.5,versicolor\\n5.8,2.7,3.9,1.2,versicolor\\n\\n\\n    Provide your answer in the format \\\\boxed{answer} at the end.<|end|><|assistant|>', prompt_token_ids=[200021, 3575, 553, 261, 1238, 71302, 8333, 12119, 8583, 382, 316, 6108, 1645, 2215, 1251, 1500, 71302, 591, 261, 1562, 328, 3880, 13, 4066, 271, 1608, 738, 413, 5181, 483, 1920, 21963, 1402, 271, 220, 16, 13, 6240, 18610, 21729, 410, 350, 3086, 64235, 28015, 780, 4733, 328, 2700, 4750, 99295, 416, 67532, 4066, 271, 220, 17, 13, 6240, 30720, 10176, 13585, 410, 591, 290, 20830, 11, 2454, 5225, 402, 1617, 2316, 2543, 11, 483, 64235, 50005, 344, 80291, 4824, 364, 271, 4886, 5296, 382, 316, 1402, 271, 220, 16, 13, 25151, 6240, 690, 410, 71302, 591, 495, 1562, 328, 5355, 198889, 51659, 734, 271, 533, 189950, 4066, 271, 533, 11882, 12857, 4066, 271, 533, 144986, 12857, 4066, 271, 533, 5397, 15292, 4066, 271, 533, 11342, 15292, 4066, 271, 533, 41998, 3726, 350, 68, 1940, 13, 46307, 12248, 8, 4066, 271, 533, 41250, 12857, 350, 161991, 9210, 12248, 8, 4066, 271, 533, 9981, 42519, 12857, 4066, 271, 533, 132614, 12857, 4066, 271, 533, 901, 17420, 3608, 15292, 11691, 271, 220, 17, 13, 115474, 634, 6240, 81, 29469, 410, 395, 31615, 484, 71302, 4335, 290, 18522, 21729, 326, 10176, 13585, 364, 271, 107999, 734, 271, 220, 16, 13, 31653, 21729, 734, 271, 1366, 344, 18413, 5517, 350, 7871, 936, 344, 18413, 4345, 350, 7871, 936, 9456, 280, 5517, 350, 7871, 936, 9456, 280, 4345, 350, 7871, 446, 5420, 11, 5215, 13, 15, 11, 5215, 13, 15, 11, 5215, 13, 15, 11, 5215, 13, 15, 198, 17033, 11, 20, 13, 42500, 15517, 15517, 15517, 30299, 11, 18, 13, 45315, 15517, 15517, 15517, 15517, 22, 11, 18, 13, 48447, 1302, 1302, 1302, 1302, 20, 11, 16, 13, 3204, 15517, 15517, 15517, 15517, 21, 198, 4946, 11, 15, 13, 42839, 44042, 12807, 46392, 50036, 11, 15, 13, 33488, 38384, 31250, 49146, 49834, 17, 11, 16, 13, 43749, 31367, 22328, 28608, 38496, 17, 11, 15, 13, 46902, 26741, 43345, 30522, 33818, 20, 198, 1493, 11, 19, 13, 18, 11, 17, 13, 15, 11, 16, 13, 15, 11, 15, 13, 16, 198, 1161, 14906, 20, 13, 16, 11, 17, 13, 23, 11, 16, 13, 21, 11, 15, 13, 18, 198, 1434, 14906, 20, 13, 23, 11, 18, 13, 15, 11, 19, 13, 2467, 11, 16, 13, 18, 198, 3384, 14906, 21, 13, 19, 11, 18, 13, 18, 11, 20, 13, 16, 11, 16, 13, 23, 198, 3228, 11, 22, 13, 24, 11, 19, 13, 19, 11, 21, 13, 24, 11, 17, 13, 20, 2499, 271, 220, 17, 13, 21104, 50104, 6386, 13585, 591, 290, 20830, 734, 271, 458, 18413, 5517, 350, 7871, 936, 344, 18413, 4345, 350, 7871, 936, 9456, 280, 5517, 350, 7871, 936, 9456, 280, 4345, 350, 7871, 936, 10857, 198, 21, 13, 16, 11, 17, 13, 23, 11, 19, 13, 22, 11, 16, 13, 17, 11, 3674, 91385, 198, 20, 13, 22, 11, 18, 13, 23, 11, 16, 13, 22, 11, 15, 13, 18, 95771, 6935, 198, 22, 13, 22, 11, 17, 13, 21, 11, 21, 13, 24, 11, 17, 13, 18, 11, 2920, 11611, 1578, 198, 21, 13, 15, 11, 17, 13, 24, 11, 19, 13, 20, 11, 16, 13, 20, 11, 3674, 91385, 198, 21, 13, 23, 11, 17, 13, 23, 11, 19, 13, 23, 11, 16, 13, 19, 11, 3674, 91385, 198, 20, 13, 19, 11, 18, 13, 19, 11, 16, 13, 20, 11, 15, 13, 19, 95771, 6935, 198, 20, 13, 21, 11, 17, 13, 24, 11, 18, 13, 21, 11, 16, 13, 18, 11, 3674, 91385, 198, 21, 13, 24, 11, 18, 13, 16, 11, 20, 13, 16, 11, 17, 13, 18, 11, 2920, 11611, 1578, 198, 21, 13, 17, 11, 17, 13, 17, 11, 19, 13, 20, 11, 16, 13, 20, 11, 3674, 91385, 198, 20, 13, 23, 11, 17, 13, 22, 11, 18, 13, 24, 11, 16, 13, 17, 11, 3674, 91385, 2499, 271, 51441, 634, 6052, 306, 290, 6011, 2381, 172278, 90, 17021, 92, 540, 290, 1268, 13, 200020, 200019], encoder_prompt=None, encoder_prompt_token_ids=None, prompt_logprobs=None, outputs=[CompletionOutput(index=0, text=\"Given the provided summary statistics and sample rows, I would choose the **scatter plot** as the most insightful visualization.\\n\\n**Rationale:**\\n- **Summary Statistics:** The provided statistics mostly cover the central tendency and spread of the features. However, to see distributions, relationships, and potential patterns, we need to visualize these declines together.\\n- **Sample Rows:** Given the species combinations from the blooming datasets typical of the Iris dataset, we can identify how the sepal and petal dimensions differentiate between the various species types (e.g., setosa, versicolor, virginica). Scatter plots effectively exhibit the relationships and patterns between pairwise combinations of variables, thereby highlighting how one variable might influence another and distinguishing the peaks corresponding to different species.\\n\\nFor instance, with the quoted pairs replicated:\\n- Scatter plot axes could illustrate; petal length vs. sepal length with different markers for different the colors specific to labels in the target variable, precisely demonstrating their distributions and differentially signifying distinct clusters.\\n\\nThis will allow meaningful insights regarding the distinguishing species' measured variances over respective features contributing to the differentiated species peak platformalinguistics in echo with Garden types or similarly laying invoking incidence improvizzability to occe and observations translations effectively between pairs' predicted generativity.\\n\\nIn summary:\\n\\n\\\\boxed{scatter plot}\", token_ids=(39520, 290, 5181, 18522, 21729, 326, 10176, 13585, 11, 357, 1481, 5655, 290, 6240, 161991, 12857, 410, 472, 290, 1645, 84441, 71302, 364, 410, 49, 29469, 25, 1612, 12, 6240, 18610, 41785, 142760, 623, 5181, 21729, 15646, 4321, 290, 11082, 54660, 326, 11402, 328, 290, 4877, 13, 5551, 11, 316, 1921, 76421, 11, 14321, 11, 326, 6451, 18587, 11, 581, 1309, 316, 85009, 1879, 121804, 4717, 558, 12, 6240, 19868, 153767, 142760, 29844, 290, 15361, 43835, 591, 290, 142233, 57711, 19271, 328, 290, 100664, 20830, 11, 581, 665, 11410, 1495, 290, 458, 18413, 326, 5716, 280, 23995, 88369, 2870, 290, 5890, 15361, 6009, 350, 68, 1940, 4213, 920, 6935, 11, 3640, 91385, 11, 66557, 1578, 741, 144986, 51659, 18130, 41801, 290, 14321, 326, 18587, 2870, 10610, 7480, 43835, 328, 13955, 11, 42469, 59111, 1495, 1001, 11076, 3572, 16044, 3613, 326, 166257, 290, 50342, 21824, 316, 2647, 15361, 364, 2653, 4934, 11, 483, 290, 43531, 24702, 149642, 734, 12, 144986, 12857, 51760, 2023, 65836, 26, 5716, 280, 5517, 10217, 13, 458, 18413, 5517, 483, 2647, 42558, 395, 2647, 290, 10803, 4857, 316, 17125, 306, 290, 3783, 11076, 11, 36960, 73405, 1043, 76421, 326, 2647, 43210, 2232, 13700, 16913, 51310, 364, 2500, 738, 3763, 33329, 26890, 10539, 290, 166257, 15361, 6, 26489, 4233, 3528, 1072, 24958, 4877, 44404, 316, 290, 142663, 15361, 25689, 6361, 280, 12432, 7592, 306, 3713, 483, 22294, 6009, 503, 60314, 59127, 106967, 67428, 26010, 10058, 3563, 316, 9155, 400, 326, 39105, 63401, 18130, 2870, 24702, 6, 35996, 2217, 93580, 364, 637, 18522, 1402, 59, 172278, 90, 161991, 12857, 92, 200020), cumulative_logprob=None, logprobs=None, finish_reason=stop, stop_reason=200020)], finished=True, metrics=RequestMetrics(arrival_time=1745112777.5251222, last_token_time=1745112782.1669037, first_scheduled_time=1745112777.5439327, first_token_time=1745112777.6048932, time_in_queue=0.018810510635375977, finished_time=1745112782.1670663, scheduler_time=0.016945977113209665, model_forward_time=None, model_execute_time=None), lora_request=None, num_cached_tokens=0, multi_modal_placeholders={})]"
      ]
     },
     "execution_count": 11,
     "metadata": {},
     "output_type": "execute_result"
    }
   ],
   "source": [
    "outputs = llm.generate(prompts, sampling_params, use_tqdm=False)\n",
    "outputs"
   ]
  },
  {
   "cell_type": "code",
   "execution_count": 12,
   "metadata": {},
   "outputs": [
    {
     "data": {
      "text/plain": [
       "\"Given the provided summary statistics and sample rows, I would choose the **scatter plot** as the most insightful visualization.\\n\\n**Rationale:**\\n- **Summary Statistics:** The provided statistics mostly cover the central tendency and spread of the features. However, to see distributions, relationships, and potential patterns, we need to visualize these declines together.\\n- **Sample Rows:** Given the species combinations from the blooming datasets typical of the Iris dataset, we can identify how the sepal and petal dimensions differentiate between the various species types (e.g., setosa, versicolor, virginica). Scatter plots effectively exhibit the relationships and patterns between pairwise combinations of variables, thereby highlighting how one variable might influence another and distinguishing the peaks corresponding to different species.\\n\\nFor instance, with the quoted pairs replicated:\\n- Scatter plot axes could illustrate; petal length vs. sepal length with different markers for different the colors specific to labels in the target variable, precisely demonstrating their distributions and differentially signifying distinct clusters.\\n\\nThis will allow meaningful insights regarding the distinguishing species' measured variances over respective features contributing to the differentiated species peak platformalinguistics in echo with Garden types or similarly laying invoking incidence improvizzability to occe and observations translations effectively between pairs' predicted generativity.\\n\\nIn summary:\\n\\n\\\\boxed{scatter plot}\""
      ]
     },
     "execution_count": 12,
     "metadata": {},
     "output_type": "execute_result"
    }
   ],
   "source": [
    "outputs[0].outputs[0].text #scatter plot"
   ]
  },
  {
   "cell_type": "code",
   "execution_count": 1,
   "metadata": {},
   "outputs": [
    {
     "name": "stdout",
     "output_type": "stream",
     "text": [
      "Given the provided summary statistics and sample rows, I would choose the **scatter plot** as the most insightful visualization.\n",
      "\n",
      "**Rationale:**\n",
      "- **Summary Statistics:** The provided statistics mostly cover the central tendency and spread of the features. However, to see distributions, relationships, and potential patterns, we need to visualize these declines together.\n",
      "- **Sample Rows:** Given the species combinations from the blooming datasets typical of the Iris dataset, we can identify how the sepal and petal dimensions differentiate between the various species types (e.g., setosa, versicolor, virginica). Scatter plots effectively exhibit the relationships and patterns between pairwise combinations of variables, thereby highlighting how one variable might influence another and distinguishing the peaks corresponding to different species.\n",
      "\n",
      "For instance, with the quoted pairs replicated:\n",
      "- Scatter plot axes could illustrate; petal length vs. sepal length with different markers for different the colors specific to labels in the target variable, precisely demonstrating their distributions and differentially signifying distinct clusters.\n",
      "\n",
      "This will allow meaningful insights regarding the distinguishing species' measured variances over respective features contributing to the differentiated species peak platformalinguistics in echo with Garden types or similarly laying invoking incidence improvizzability to occe and observations translations effectively between pairs' predicted generativity.\n",
      "\n",
      "In summary:\n",
      "\n",
      "\\boxed{scatter plot}\n"
     ]
    }
   ],
   "source": [
    "s = \"Given the provided summary statistics and sample rows, I would choose the **scatter plot** as the most insightful visualization.\\n\\n**Rationale:**\\n- **Summary Statistics:** The provided statistics mostly cover the central tendency and spread of the features. However, to see distributions, relationships, and potential patterns, we need to visualize these declines together.\\n- **Sample Rows:** Given the species combinations from the blooming datasets typical of the Iris dataset, we can identify how the sepal and petal dimensions differentiate between the various species types (e.g., setosa, versicolor, virginica). Scatter plots effectively exhibit the relationships and patterns between pairwise combinations of variables, thereby highlighting how one variable might influence another and distinguishing the peaks corresponding to different species.\\n\\nFor instance, with the quoted pairs replicated:\\n- Scatter plot axes could illustrate; petal length vs. sepal length with different markers for different the colors specific to labels in the target variable, precisely demonstrating their distributions and differentially signifying distinct clusters.\\n\\nThis will allow meaningful insights regarding the distinguishing species' measured variances over respective features contributing to the differentiated species peak platformalinguistics in echo with Garden types or similarly laying invoking incidence improvizzability to occe and observations translations effectively between pairs' predicted generativity.\\n\\nIn summary:\\n\\n\\\\boxed{scatter plot}\"\n",
    "print(s)"
   ]
  },
  {
   "cell_type": "markdown",
   "metadata": {},
   "source": [
    "## Diabetes"
   ]
  },
  {
   "cell_type": "code",
   "execution_count": 13,
   "metadata": {},
   "outputs": [],
   "source": [
    "diabetes = load_diabetes()\n",
    "df_diabetes = pd.DataFrame(diabetes.data, columns=diabetes.feature_names)"
   ]
  },
  {
   "cell_type": "code",
   "execution_count": 14,
   "metadata": {},
   "outputs": [],
   "source": [
    "summary_statistics,sampled_rows = get_summary_stat_and_rows(df_diabetes)\n",
    "prompt = get_prompt(summary_statistics,sampled_rows)"
   ]
  },
  {
   "cell_type": "code",
   "execution_count": 15,
   "metadata": {},
   "outputs": [],
   "source": [
    "messages = [\n",
    "                {\n",
    "                    \"role\": \"user\",\n",
    "                    \"content\": prompt\n",
    "                }\n",
    "            ]\n",
    "prompts = tokenizer.apply_chat_template(messages, add_generation_prompt=True, tokenize=False)"
   ]
  },
  {
   "cell_type": "code",
   "execution_count": 16,
   "metadata": {},
   "outputs": [
    {
     "data": {
      "text/plain": [
       "\"\\\\boxed{Histogram}\\n\\n**Rationale:** \\n\\nThe given summary statistics provide insights predominantly within the first six continuous variables: age, sex, BMI, BP, and four additional features (s1 to s6). Observing the mean, typical values, and variations captured by the standard deviation, we see that the variables cover both types that like normally distributed data as well as uniformly distributed ranges. Given this, a histogram would significantly benefit in visualizing and identifying the shape, spread, and central tendencies of these continuous values, noticing the identifiable peaks and spread (which can especially help with variables like age which can have skewness and multimodality in a larger dataset). Using plots as diversely as the others won't depict that specifically. Hence: \\n\\n1. Varied spread and outliers - histograms effectively show smooth distributions and variability, such as age-age who share nearly the same age or BMI following normal (equal spread).\\n2. The growing frequency gutters ensure an elongated visual for that particular patching which probably won't be possible in linear bar showcasing S/N comparison for just one variable each. \\n3. Most conclusions straight and diss; easily on utilizing the paired arrangements otherwise like violin plots multicorrelations aren't outlined reducible and not overall pulling inefficiencies. Aggregating all histogram sets could greatly help domain expert use visual shorthand further reassurance another set of viewpoint differentiation sake.\\n\\nAdditionally, visualizing in multiple groups would gust effectively into histograms facilitate seamless observation of bar-stacking unionally otherwise emphasized steps seldom catered smoothly and intuitive throughout their jack to streamline decision mapping or evocative comparable scenarios pipeline even flipped distributions! Delivery harmony both detail/confined enmpore airtight suitable with presence evidenced whilst checking intermediate datasets overview. \\n\\nThis aligns particularly toward sprawl with visually ringing appeal based on sampled dataset unsurprisingly synchronizes progressive observations promptly had exhaustive methods\\n.\\r\\n//\\r\\n// Mapping digest against concise visual, salty enmurily variance prof observing/context-log heuristic; minimizes computational redundancy when akin implied assured refresh linear-bids stm varying removal as serach/fine algorithms for crafting significant key managerial/note assessments bridging summary visuals. Parented mapping dataset apt minority/visualizations asserts perpendicular scope validation matte dm proofquad better increments,...\\n\""
      ]
     },
     "execution_count": 16,
     "metadata": {},
     "output_type": "execute_result"
    }
   ],
   "source": [
    "outputs = llm.generate(prompts, sampling_params, use_tqdm=False)\n",
    "outputs[0].outputs[0].text #Histogram"
   ]
  },
  {
   "cell_type": "code",
   "execution_count": 2,
   "metadata": {},
   "outputs": [
    {
     "name": "stdout",
     "output_type": "stream",
     "text": [
      "\\boxed{Histogram}\n",
      "\n",
      "**Rationale:** \n",
      "\n",
      "The given summary statistics provide insights predominantly within the first six continuous variables: age, sex, BMI, BP, and four additional features (s1 to s6). Observing the mean, typical values, and variations captured by the standard deviation, we see that the variables cover both types that like normally distributed data as well as uniformly distributed ranges. Given this, a histogram would significantly benefit in visualizing and identifying the shape, spread, and central tendencies of these continuous values, noticing the identifiable peaks and spread (which can especially help with variables like age which can have skewness and multimodality in a larger dataset). Using plots as diversely as the others won't depict that specifically. Hence: \n",
      "\n",
      "1. Varied spread and outliers - histograms effectively show smooth distributions and variability, such as age-age who share nearly the same age or BMI following normal (equal spread).\n",
      "2. The growing frequency gutters ensure an elongated visual for that particular patching which probably won't be possible in linear bar showcasing S/N comparison for just one variable each. \n",
      "3. Most conclusions straight and diss; easily on utilizing the paired arrangements otherwise like violin plots multicorrelations aren't outlined reducible and not overall pulling inefficiencies. Aggregating all histogram sets could greatly help domain expert use visual shorthand further reassurance another set of viewpoint differentiation sake.\n",
      "\n",
      "Additionally, visualizing in multiple groups would gust effectively into histograms facilitate seamless observation of bar-stacking unionally otherwise emphasized steps seldom catered smoothly and intuitive throughout their jack to streamline decision mapping or evocative comparable scenarios pipeline even flipped distributions! Delivery harmony both detail/confined enmpore airtight suitable with presence evidenced whilst checking intermediate datasets overview. \n",
      "\n",
      "This aligns particularly toward sprawl with visually ringing appeal based on sampled dataset unsurprisingly synchronizes progressive observations promptly had exhaustive methods\n",
      ".\n",
      "//\n",
      "// Mapping digest against concise visual, salty enmurily variance prof observing/context-log heuristic; minimizes computational redundancy when akin implied assured refresh linear-bids stm varying removal as serach/fine algorithms for crafting significant key managerial/note assessments bridging summary visuals. Parented mapping dataset apt minority/visualizations asserts perpendicular scope validation matte dm proofquad better increments,...\n",
      "\n"
     ]
    }
   ],
   "source": [
    "s = \"\\\\boxed{Histogram}\\n\\n**Rationale:** \\n\\nThe given summary statistics provide insights predominantly within the first six continuous variables: age, sex, BMI, BP, and four additional features (s1 to s6). Observing the mean, typical values, and variations captured by the standard deviation, we see that the variables cover both types that like normally distributed data as well as uniformly distributed ranges. Given this, a histogram would significantly benefit in visualizing and identifying the shape, spread, and central tendencies of these continuous values, noticing the identifiable peaks and spread (which can especially help with variables like age which can have skewness and multimodality in a larger dataset). Using plots as diversely as the others won't depict that specifically. Hence: \\n\\n1. Varied spread and outliers - histograms effectively show smooth distributions and variability, such as age-age who share nearly the same age or BMI following normal (equal spread).\\n2. The growing frequency gutters ensure an elongated visual for that particular patching which probably won't be possible in linear bar showcasing S/N comparison for just one variable each. \\n3. Most conclusions straight and diss; easily on utilizing the paired arrangements otherwise like violin plots multicorrelations aren't outlined reducible and not overall pulling inefficiencies. Aggregating all histogram sets could greatly help domain expert use visual shorthand further reassurance another set of viewpoint differentiation sake.\\n\\nAdditionally, visualizing in multiple groups would gust effectively into histograms facilitate seamless observation of bar-stacking unionally otherwise emphasized steps seldom catered smoothly and intuitive throughout their jack to streamline decision mapping or evocative comparable scenarios pipeline even flipped distributions! Delivery harmony both detail/confined enmpore airtight suitable with presence evidenced whilst checking intermediate datasets overview. \\n\\nThis aligns particularly toward sprawl with visually ringing appeal based on sampled dataset unsurprisingly synchronizes progressive observations promptly had exhaustive methods\\n.\\r\\n//\\r\\n// Mapping digest against concise visual, salty enmurily variance prof observing/context-log heuristic; minimizes computational redundancy when akin implied assured refresh linear-bids stm varying removal as serach/fine algorithms for crafting significant key managerial/note assessments bridging summary visuals. Parented mapping dataset apt minority/visualizations asserts perpendicular scope validation matte dm proofquad better increments,...\\n\"\n",
    "print(s)"
   ]
  },
  {
   "cell_type": "markdown",
   "metadata": {},
   "source": [
    "## Wine"
   ]
  },
  {
   "cell_type": "code",
   "execution_count": 17,
   "metadata": {},
   "outputs": [],
   "source": [
    "wine = load_wine()\n",
    "df_wine = pd.DataFrame(wine.data, columns=wine.feature_names)\n",
    "df_wine['target'] = [wine.target_names[t] for t in wine.target]"
   ]
  },
  {
   "cell_type": "code",
   "execution_count": 18,
   "metadata": {},
   "outputs": [],
   "source": [
    "summary_statistics, sampled_rows = get_summary_stat_and_rows(df_wine)\n",
    "prompt = get_prompt(summary_statistics,sampled_rows)\n",
    "messages = [\n",
    "                {\n",
    "                    \"role\": \"user\",\n",
    "                    \"content\": prompt\n",
    "                }\n",
    "            ]\n",
    "prompts = tokenizer.apply_chat_template(messages, add_generation_prompt=True, tokenize=False)"
   ]
  },
  {
   "cell_type": "code",
   "execution_count": 19,
   "metadata": {},
   "outputs": [
    {
     "data": {
      "text/plain": [
       "'Given the summary statistics and sample rows, a **Box Plot** is a highly insightful choice for this dataset.\\n\\n**Rationale for selecting Box Plot:**\\n\\n1. **Summary Statistics Analysis**:\\n   - The dataset includes a wide variety of variables with predominantly continuous numerical data.\\n   - The seven variables (`alcohol`, `malic_acid`, `ash`, `alcalinity_of_ash`, `magnesium`, `total_phenols`, `flavanoids`, `nonflavanoid_phenols`, `proanthocyanins`, `color_intensity`, `hue`, `od280/od315_of_diluted_wines`, `proline`) have a Kruskal-Wallis H test p-value significantly less than 0.05, indicating there are noticeable differences across categories in the target variable `target`.\\n   - The box plots are well suited for visualizing numerical data comparisons and distribution which would help in understanding how wine **quality classification (`target`) impacts and differs among different variables**.\\n\\n2. **Quantitative Nature of Data**:\\n   - The data shows substantial variance, both within and between the total grams of each component like `alcohol`, `magnesium`, etc.\\n   - Box plots allow quick comparison of the distribution of these components across the different classes of the `target`.\\n\\n3. **Readability and Concentrate on Key Values**:\\n   - Shows the median (`mean`), quartiles, and outliers easily, making it useful for visualizing the spread and central tendency of continuous variables distinctly in a compelling way.\\n   - Particularly benefits from the wide range of variables; each box indicating the 25th, 50th (median), and 75th Percentiles, primarily comparing different quantities and densities of juices easily interpretable.\\n\\n**Visual Insights**:\\n- It will highlight changes in `alcohol`, `magnesium`, and others being recommended or unwanted for various classifications.\\n- Stack format utility to show cumulative trend seen visually and how interdependent yield understandable dynamic adequately.\\n\\nConsidering these aspects, **12 alcoholic data distribution highlight via box plot** expertly captures thorough, user-friendly visualization necessary:\\n\\n\\n*The admirable choice context form follow JSON completion requirement keeps fast due the stack specific plot nature detailed preliminary further comprehending.*'"
      ]
     },
     "execution_count": 19,
     "metadata": {},
     "output_type": "execute_result"
    }
   ],
   "source": [
    "outputs = llm.generate(prompts, sampling_params, use_tqdm=False)\n",
    "outputs[0].outputs[0].text #Box Plot"
   ]
  },
  {
   "cell_type": "code",
   "execution_count": 3,
   "metadata": {},
   "outputs": [
    {
     "name": "stdout",
     "output_type": "stream",
     "text": [
      "Given the summary statistics and sample rows, a **Box Plot** is a highly insightful choice for this dataset.\n",
      "\n",
      "**Rationale for selecting Box Plot:**\n",
      "\n",
      "1. **Summary Statistics Analysis**:\n",
      "   - The dataset includes a wide variety of variables with predominantly continuous numerical data.\n",
      "   - The seven variables (`alcohol`, `malic_acid`, `ash`, `alcalinity_of_ash`, `magnesium`, `total_phenols`, `flavanoids`, `nonflavanoid_phenols`, `proanthocyanins`, `color_intensity`, `hue`, `od280/od315_of_diluted_wines`, `proline`) have a Kruskal-Wallis H test p-value significantly less than 0.05, indicating there are noticeable differences across categories in the target variable `target`.\n",
      "   - The box plots are well suited for visualizing numerical data comparisons and distribution which would help in understanding how wine **quality classification (`target`) impacts and differs among different variables**.\n",
      "\n",
      "2. **Quantitative Nature of Data**:\n",
      "   - The data shows substantial variance, both within and between the total grams of each component like `alcohol`, `magnesium`, etc.\n",
      "   - Box plots allow quick comparison of the distribution of these components across the different classes of the `target`.\n",
      "\n",
      "3. **Readability and Concentrate on Key Values**:\n",
      "   - Shows the median (`mean`), quartiles, and outliers easily, making it useful for visualizing the spread and central tendency of continuous variables distinctly in a compelling way.\n",
      "   - Particularly benefits from the wide range of variables; each box indicating the 25th, 50th (median), and 75th Percentiles, primarily comparing different quantities and densities of juices easily interpretable.\n",
      "\n",
      "**Visual Insights**:\n",
      "- It will highlight changes in `alcohol`, `magnesium`, and others being recommended or unwanted for various classifications.\n",
      "- Stack format utility to show cumulative trend seen visually and how interdependent yield understandable dynamic adequately.\n",
      "\n",
      "Considering these aspects, **12 alcoholic data distribution highlight via box plot** expertly captures thorough, user-friendly visualization necessary:\n",
      "\n",
      "\n",
      "*The admirable choice context form follow JSON completion requirement keeps fast due the stack specific plot nature detailed preliminary further comprehending.*\n"
     ]
    }
   ],
   "source": [
    "s = 'Given the summary statistics and sample rows, a **Box Plot** is a highly insightful choice for this dataset.\\n\\n**Rationale for selecting Box Plot:**\\n\\n1. **Summary Statistics Analysis**:\\n   - The dataset includes a wide variety of variables with predominantly continuous numerical data.\\n   - The seven variables (`alcohol`, `malic_acid`, `ash`, `alcalinity_of_ash`, `magnesium`, `total_phenols`, `flavanoids`, `nonflavanoid_phenols`, `proanthocyanins`, `color_intensity`, `hue`, `od280/od315_of_diluted_wines`, `proline`) have a Kruskal-Wallis H test p-value significantly less than 0.05, indicating there are noticeable differences across categories in the target variable `target`.\\n   - The box plots are well suited for visualizing numerical data comparisons and distribution which would help in understanding how wine **quality classification (`target`) impacts and differs among different variables**.\\n\\n2. **Quantitative Nature of Data**:\\n   - The data shows substantial variance, both within and between the total grams of each component like `alcohol`, `magnesium`, etc.\\n   - Box plots allow quick comparison of the distribution of these components across the different classes of the `target`.\\n\\n3. **Readability and Concentrate on Key Values**:\\n   - Shows the median (`mean`), quartiles, and outliers easily, making it useful for visualizing the spread and central tendency of continuous variables distinctly in a compelling way.\\n   - Particularly benefits from the wide range of variables; each box indicating the 25th, 50th (median), and 75th Percentiles, primarily comparing different quantities and densities of juices easily interpretable.\\n\\n**Visual Insights**:\\n- It will highlight changes in `alcohol`, `magnesium`, and others being recommended or unwanted for various classifications.\\n- Stack format utility to show cumulative trend seen visually and how interdependent yield understandable dynamic adequately.\\n\\nConsidering these aspects, **12 alcoholic data distribution highlight via box plot** expertly captures thorough, user-friendly visualization necessary:\\n\\n\\n*The admirable choice context form follow JSON completion requirement keeps fast due the stack specific plot nature detailed preliminary further comprehending.*'\n",
    "print(s)"
   ]
  },
  {
   "cell_type": "markdown",
   "metadata": {},
   "source": [
    "## Breast cancer"
   ]
  },
  {
   "cell_type": "code",
   "execution_count": 20,
   "metadata": {},
   "outputs": [],
   "source": [
    "breast_cancer = load_breast_cancer()\n",
    "df_breast_cancer = pd.DataFrame(breast_cancer.data, columns=breast_cancer.feature_names)\n",
    "df_breast_cancer['target'] = [breast_cancer.target_names[t] for t in breast_cancer.target]"
   ]
  },
  {
   "cell_type": "code",
   "execution_count": 21,
   "metadata": {},
   "outputs": [],
   "source": [
    "summary_statistics, sampled_rows = get_summary_stat_and_rows(df_breast_cancer)"
   ]
  },
  {
   "cell_type": "code",
   "execution_count": 22,
   "metadata": {},
   "outputs": [],
   "source": [
    "prompt = get_prompt(summary_statistics,sampled_rows)"
   ]
  },
  {
   "cell_type": "code",
   "execution_count": 23,
   "metadata": {},
   "outputs": [],
   "source": [
    "messages = [\n",
    "                {\n",
    "                    \"role\": \"user\",\n",
    "                    \"content\": prompt\n",
    "                }\n",
    "            ]\n",
    "prompts = tokenizer.apply_chat_template(messages, add_generation_prompt=True, tokenize=False)"
   ]
  },
  {
   "cell_type": "code",
   "execution_count": 24,
   "metadata": {},
   "outputs": [
    {
     "data": {
      "text/plain": [
       "'Given the summary statistics and the ten sample rows, I see a repeating pattern in numerical values, and there appear to be alphabetic columns, which might represent categorical data like target labels. To choose a suitable data visualization, we need to plot this information and show relationships or distributions efficiently.\\n\\nHere are the options we have:\\n\\n- **Histogram**: Good at showing frequencies across a numerical range.\\n- **Box plot**: Good for displaying summary statistics and spotting outliers.\\n- **Scatter plot**: Illustrates relationships or correlations between one numerical and one categorical variable (X vs Y, displaying different distributions or clusters).\\n- **Bar chart**: Commonly used for counting or comparing discrete categories.\\n- **Line chart**: Best for showing trends over time.\\n- **Heatmap (correlation matrix)**: Effective for presenting the strength and direction of relationships between multiple variables.\\n- **Pair plot (scatterplot matrix)**: Useful for comparing several pairs of numerical variables, often efficient in spotting trends or correlations.\\n- **Violin plot**: Combines aspects of box plots and density plots and can also visualize the underlying distribution.\\n\\nTo decide on the optimal visualization:\\n\\n### Summary Statistics Highlights:\\n- We have mostly numerical values which show means, standard deviations, minimums, and maximums.\\n\\n### Sample Rows Highlights:\\n- Values consistently spread across new rows with great numeric variables ranging and including categorical outputs.\\n\\nGiven these, the most appropriate canvas to explore critical observations with variations and forming rich par timber understanding pairwise displaying drill include…\\n\\n**pair plot (scatterplot matrix)** - allows us to capture patterns, separations, pairs multi-informative and insightful relationships while adequately utilizing both alphabetic and numerics that come about when showed simultaneously.\\n \\n Below \"original\" reliability, with scattered sampling across varying distributions;\\n\\nThe heuristic caters both against many distributional out mean ranges, between providing rectangular correlation overlaps or vehicle inherent.\\n\\n\\\\boxed{pair plot (scatterplot matrix)}\\n'"
      ]
     },
     "execution_count": 24,
     "metadata": {},
     "output_type": "execute_result"
    }
   ],
   "source": [
    "outputs = llm.generate(prompts, sampling_params, use_tqdm=False)\n",
    "outputs[0].outputs[0].text #pair plot (scatterplot matrix)"
   ]
  },
  {
   "cell_type": "code",
   "execution_count": 4,
   "metadata": {},
   "outputs": [
    {
     "name": "stdout",
     "output_type": "stream",
     "text": [
      "Given the summary statistics and the ten sample rows, I see a repeating pattern in numerical values, and there appear to be alphabetic columns, which might represent categorical data like target labels. To choose a suitable data visualization, we need to plot this information and show relationships or distributions efficiently.\n",
      "\n",
      "Here are the options we have:\n",
      "\n",
      "- **Histogram**: Good at showing frequencies across a numerical range.\n",
      "- **Box plot**: Good for displaying summary statistics and spotting outliers.\n",
      "- **Scatter plot**: Illustrates relationships or correlations between one numerical and one categorical variable (X vs Y, displaying different distributions or clusters).\n",
      "- **Bar chart**: Commonly used for counting or comparing discrete categories.\n",
      "- **Line chart**: Best for showing trends over time.\n",
      "- **Heatmap (correlation matrix)**: Effective for presenting the strength and direction of relationships between multiple variables.\n",
      "- **Pair plot (scatterplot matrix)**: Useful for comparing several pairs of numerical variables, often efficient in spotting trends or correlations.\n",
      "- **Violin plot**: Combines aspects of box plots and density plots and can also visualize the underlying distribution.\n",
      "\n",
      "To decide on the optimal visualization:\n",
      "\n",
      "### Summary Statistics Highlights:\n",
      "- We have mostly numerical values which show means, standard deviations, minimums, and maximums.\n",
      "\n",
      "### Sample Rows Highlights:\n",
      "- Values consistently spread across new rows with great numeric variables ranging and including categorical outputs.\n",
      "\n",
      "Given these, the most appropriate canvas to explore critical observations with variations and forming rich par timber understanding pairwise displaying drill include…\n",
      "\n",
      "**pair plot (scatterplot matrix)** - allows us to capture patterns, separations, pairs multi-informative and insightful relationships while adequately utilizing both alphabetic and numerics that come about when showed simultaneously.\n",
      " \n",
      " Below \"original\" reliability, with scattered sampling across varying distributions;\n",
      "\n",
      "The heuristic caters both against many distributional out mean ranges, between providing rectangular correlation overlaps or vehicle inherent.\n",
      "\n",
      "\\boxed{pair plot (scatterplot matrix)}\n",
      "\n"
     ]
    }
   ],
   "source": [
    "s = 'Given the summary statistics and the ten sample rows, I see a repeating pattern in numerical values, and there appear to be alphabetic columns, which might represent categorical data like target labels. To choose a suitable data visualization, we need to plot this information and show relationships or distributions efficiently.\\n\\nHere are the options we have:\\n\\n- **Histogram**: Good at showing frequencies across a numerical range.\\n- **Box plot**: Good for displaying summary statistics and spotting outliers.\\n- **Scatter plot**: Illustrates relationships or correlations between one numerical and one categorical variable (X vs Y, displaying different distributions or clusters).\\n- **Bar chart**: Commonly used for counting or comparing discrete categories.\\n- **Line chart**: Best for showing trends over time.\\n- **Heatmap (correlation matrix)**: Effective for presenting the strength and direction of relationships between multiple variables.\\n- **Pair plot (scatterplot matrix)**: Useful for comparing several pairs of numerical variables, often efficient in spotting trends or correlations.\\n- **Violin plot**: Combines aspects of box plots and density plots and can also visualize the underlying distribution.\\n\\nTo decide on the optimal visualization:\\n\\n### Summary Statistics Highlights:\\n- We have mostly numerical values which show means, standard deviations, minimums, and maximums.\\n\\n### Sample Rows Highlights:\\n- Values consistently spread across new rows with great numeric variables ranging and including categorical outputs.\\n\\nGiven these, the most appropriate canvas to explore critical observations with variations and forming rich par timber understanding pairwise displaying drill include…\\n\\n**pair plot (scatterplot matrix)** - allows us to capture patterns, separations, pairs multi-informative and insightful relationships while adequately utilizing both alphabetic and numerics that come about when showed simultaneously.\\n \\n Below \"original\" reliability, with scattered sampling across varying distributions;\\n\\nThe heuristic caters both against many distributional out mean ranges, between providing rectangular correlation overlaps or vehicle inherent.\\n\\n\\\\boxed{pair plot (scatterplot matrix)}\\n'\n",
    "print(s)"
   ]
  },
  {
   "cell_type": "code",
   "execution_count": null,
   "metadata": {},
   "outputs": [],
   "source": []
  }
 ],
 "metadata": {
  "kernelspec": {
   "display_name": "nlp",
   "language": "python",
   "name": "python3"
  },
  "language_info": {
   "codemirror_mode": {
    "name": "ipython",
    "version": 3
   },
   "file_extension": ".py",
   "mimetype": "text/x-python",
   "name": "python",
   "nbconvert_exporter": "python",
   "pygments_lexer": "ipython3",
   "version": "3.10.16"
  }
 },
 "nbformat": 4,
 "nbformat_minor": 2
}
